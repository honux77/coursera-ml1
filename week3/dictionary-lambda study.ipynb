{
 "cells": [
  {
   "cell_type": "markdown",
   "metadata": {
    "collapsed": true
   },
   "source": [
    "# python dictionary \n",
    "- 흔히 사전이라고 이야기하는 자료 구조\n",
    "- key 로 value를 찾을 때 사용합니다. kv 쌍으로 저장한다고 합니다.\n",
    "- 리스트와는 달리 순서는 상관 없습니다. "
   ]
  },
  {
   "cell_type": "code",
   "execution_count": 70,
   "metadata": {
    "collapsed": true
   },
   "outputs": [],
   "source": [
    "a = {\"name\": \"Dano\", \"money\": 500, \"car\": \"Ferrari\", \"etc\": \"solo\"}"
   ]
  },
  {
   "cell_type": "code",
   "execution_count": 71,
   "metadata": {},
   "outputs": [
    {
     "name": "stdout",
     "output_type": "stream",
     "text": [
      "{'money': 500, 'etc': 'solo', 'name': 'Dano', 'car': 'Ferrari'}\n"
     ]
    }
   ],
   "source": [
    "print a "
   ]
  },
  {
   "cell_type": "code",
   "execution_count": 72,
   "metadata": {},
   "outputs": [
    {
     "name": "stdout",
     "output_type": "stream",
     "text": [
      "500\n"
     ]
    }
   ],
   "source": [
    "print a['money']"
   ]
  },
  {
   "cell_type": "code",
   "execution_count": 73,
   "metadata": {},
   "outputs": [
    {
     "name": "stdout",
     "output_type": "stream",
     "text": [
      "['money', 'etc', 'name', 'car']\n"
     ]
    }
   ],
   "source": [
    "print a.keys()"
   ]
  },
  {
   "cell_type": "code",
   "execution_count": 74,
   "metadata": {},
   "outputs": [
    {
     "data": {
      "text/plain": [
       "True"
      ]
     },
     "execution_count": 74,
     "metadata": {},
     "output_type": "execute_result"
    }
   ],
   "source": [
    "'money' in a"
   ]
  },
  {
   "cell_type": "code",
   "execution_count": 75,
   "metadata": {},
   "outputs": [
    {
     "data": {
      "text/plain": [
       "False"
      ]
     },
     "execution_count": 75,
     "metadata": {},
     "output_type": "execute_result"
    }
   ],
   "source": [
    "'girlfriend' in a"
   ]
  },
  {
   "cell_type": "code",
   "execution_count": 76,
   "metadata": {},
   "outputs": [
    {
     "name": "stdout",
     "output_type": "stream",
     "text": [
      "money 500\n",
      "etc solo\n",
      "name Dano\n",
      "car Ferrari\n"
     ]
    }
   ],
   "source": [
    "for key in a.keys(): \n",
    "    print key, a[key]"
   ]
  },
  {
   "cell_type": "code",
   "execution_count": 77,
   "metadata": {},
   "outputs": [],
   "source": [
    "# print a['foo'] #중요: 에러가 발생합니다."
   ]
  },
  {
   "cell_type": "markdown",
   "metadata": {},
   "source": [
    "# List \n",
    "- 그냥 흔한 배열 같은 자료구조 "
   ]
  },
  {
   "cell_type": "code",
   "execution_count": 78,
   "metadata": {},
   "outputs": [
    {
     "name": "stdout",
     "output_type": "stream",
     "text": [
      "['apple', 'banana', 'mango']\n",
      "3\n",
      "apple mango\n"
     ]
    }
   ],
   "source": [
    "b = ['apple', 'banana', 'mango']\n",
    "print b\n",
    "print len(b)\n",
    "print b[0], b[2]"
   ]
  },
  {
   "cell_type": "code",
   "execution_count": 79,
   "metadata": {},
   "outputs": [
    {
     "name": "stdout",
     "output_type": "stream",
     "text": [
      "2\n"
     ]
    }
   ],
   "source": [
    "print b.index('mango')"
   ]
  },
  {
   "cell_type": "code",
   "execution_count": 80,
   "metadata": {},
   "outputs": [
    {
     "ename": "ValueError",
     "evalue": "'melon' is not in list",
     "output_type": "error",
     "traceback": [
      "\u001b[0;31m---------------------------------------------------------------------------\u001b[0m",
      "\u001b[0;31mValueError\u001b[0m                                Traceback (most recent call last)",
      "\u001b[0;32m<ipython-input-80-159ffb8ee35e>\u001b[0m in \u001b[0;36m<module>\u001b[0;34m()\u001b[0m\n\u001b[0;32m----> 1\u001b[0;31m \u001b[0;32mprint\u001b[0m \u001b[0mb\u001b[0m\u001b[0;34m.\u001b[0m\u001b[0mindex\u001b[0m\u001b[0;34m(\u001b[0m\u001b[0;34m'melon'\u001b[0m\u001b[0;34m)\u001b[0m \u001b[0;31m#이것도 에러\u001b[0m\u001b[0;34m\u001b[0m\u001b[0m\n\u001b[0m",
      "\u001b[0;31mValueError\u001b[0m: 'melon' is not in list"
     ]
    }
   ],
   "source": [
    "print b.index('melon') #이것도 에러 "
   ]
  },
  {
   "cell_type": "code",
   "execution_count": 81,
   "metadata": {},
   "outputs": [
    {
     "data": {
      "text/plain": [
       "True"
      ]
     },
     "execution_count": 81,
     "metadata": {},
     "output_type": "execute_result"
    }
   ],
   "source": [
    "'apple' in b "
   ]
  },
  {
   "cell_type": "code",
   "execution_count": 82,
   "metadata": {},
   "outputs": [
    {
     "data": {
      "text/plain": [
       "False"
      ]
     },
     "execution_count": 82,
     "metadata": {},
     "output_type": "execute_result"
    }
   ],
   "source": [
    "'melon' in b"
   ]
  },
  {
   "cell_type": "code",
   "execution_count": 83,
   "metadata": {},
   "outputs": [
    {
     "name": "stdout",
     "output_type": "stream",
     "text": [
      "apple\n",
      "banana\n",
      "mango\n"
     ]
    }
   ],
   "source": [
    "for item in b:\n",
    "    print item "
   ]
  },
  {
   "cell_type": "markdown",
   "metadata": {},
   "source": [
    "## 람다와 함수 \n",
    "\n",
    "여기 링크를 읽어 보세요. \n",
    "\n",
    "참고로 왕초보 파이썬 좋습니다. \n",
    "- 함수: https://wikidocs.net/60\n",
    "- 람다: https://wikidocs.net/64 \n",
    "\n",
    "람다의 장점은 \n",
    "- 간단한 함수를 보다 짧게 쓸 수 있다. \n",
    "- 함수와는 달리 함수 바깥의 변수를 읽어 볼 수 있다. \n",
    "정도가 되겠습니다. "
   ]
  },
  {
   "cell_type": "markdown",
   "metadata": {},
   "source": [
    "## 람다 사용하지 않고 코딩 퀴즈 풀어보기 \n",
    "\n",
    "- for loop 안에 함수를 선언해서 이 함수는 바깥쪽에 있는 word를 함수 내부에서 읽어올 수 있습니다. \n",
    "- 이 함수를 for loop 바깥에 선언하면 동작하지 않는 코드입니다.\n",
    "- 원래는 람다가 제일 좋은 방법인 듯 합니다. "
   ]
  },
  {
   "cell_type": "markdown",
   "metadata": {},
   "source": [
    "## 연습용 데이터 생성 "
   ]
  },
  {
   "cell_type": "code",
   "execution_count": 84,
   "metadata": {},
   "outputs": [
    {
     "name": "stdout",
     "output_type": "stream",
     "text": [
      "0 2 2 1 1 1 0 2 2 1\n"
     ]
    }
   ],
   "source": [
    "# randint test\n",
    "import random\n",
    "for i in range(10):\n",
    "    print random.randint(0,2),"
   ]
  },
  {
   "cell_type": "code",
   "execution_count": 85,
   "metadata": {},
   "outputs": [
    {
     "name": "stdout",
     "output_type": "stream",
     "text": [
      "all words =  ['apple', 'banana', 'orange', 'mango', 'blueberry', 'pizza', 'cheese', 'naruto']\n",
      "\n",
      "============절취선===============\n",
      "\n",
      "alldata =  [{'cheese': 30, 'apple': 50, 'banana': 10, 'mango': 40, 'orange': 40, 'naruto': 30, 'blueberry': 30, 'pizza': 40}, {'cheese': 40, 'blueberry': 40, 'mango': 20, 'orange': 10, 'naruto': 30, 'banana': 10, 'pizza': 50}, {'cheese': 40, 'apple': 10, 'banana': 20, 'mango': 20, 'orange': 30, 'blueberry': 10, 'pizza': 30}, {'cheese': 10, 'apple': 20, 'mango': 10, 'orange': 30, 'blueberry': 40, 'pizza': 10}, {'cheese': 40, 'blueberry': 20, 'mango': 40, 'orange': 40, 'naruto': 40, 'banana': 40, 'pizza': 10}]\n"
     ]
    }
   ],
   "source": [
    "alldata = []\n",
    "all_words = \"apple banana orange mango blueberry pizza cheese naruto\".split()\n",
    "print \"all words = \", all_words\n",
    "count = 20;\n",
    "for _ in range(5):\n",
    "    fruit = {}\n",
    "    for word in all_words: \n",
    "        n = random.randint(0,5) * 10\n",
    "        if n != 0:\n",
    "            fruit[word] = n\n",
    "    # print fruit\n",
    "    alldata.append(fruit)\n",
    "\n",
    "print \"\\n============절취선===============\\n\"\n",
    "print \"alldata = \", alldata"
   ]
  },
  {
   "cell_type": "markdown",
   "metadata": {},
   "source": [
    "## 연습용 Sframe 생성 "
   ]
  },
  {
   "cell_type": "code",
   "execution_count": 86,
   "metadata": {},
   "outputs": [
    {
     "data": {
      "text/html": [
       "<div style=\"max-height:1000px;max-width:1500px;overflow:auto;\"><table frame=\"box\" rules=\"cols\">\n",
       "    <tr>\n",
       "        <th style=\"padding-left: 1em; padding-right: 1em; text-align: center\">word_count</th>\n",
       "    </tr>\n",
       "    <tr>\n",
       "        <td style=\"padding-left: 1em; padding-right: 1em; text-align: center; vertical-align: top\">{'cheese': 30, 'apple':<br>50, 'blueberry': 30, ...</td>\n",
       "    </tr>\n",
       "    <tr>\n",
       "        <td style=\"padding-left: 1em; padding-right: 1em; text-align: center; vertical-align: top\">{'cheese': 40, 'banana':<br>10, 'mango': 20, ...</td>\n",
       "    </tr>\n",
       "    <tr>\n",
       "        <td style=\"padding-left: 1em; padding-right: 1em; text-align: center; vertical-align: top\">{'cheese': 40, 'apple':<br>10, 'banana': 20, ...</td>\n",
       "    </tr>\n",
       "    <tr>\n",
       "        <td style=\"padding-left: 1em; padding-right: 1em; text-align: center; vertical-align: top\">{'cheese': 10, 'apple':<br>20, 'mango': 10, ...</td>\n",
       "    </tr>\n",
       "    <tr>\n",
       "        <td style=\"padding-left: 1em; padding-right: 1em; text-align: center; vertical-align: top\">{'cheese': 40, 'banana':<br>40, 'mango': 40, ...</td>\n",
       "    </tr>\n",
       "</table>\n",
       "[5 rows x 1 columns]<br/>\n",
       "</div>"
      ],
      "text/plain": [
       "Columns:\n",
       "\tword_count\tdict\n",
       "\n",
       "Rows: 5\n",
       "\n",
       "Data:\n",
       "+-------------------------------+\n",
       "|           word_count          |\n",
       "+-------------------------------+\n",
       "| {'cheese': 30, 'apple': 50... |\n",
       "| {'cheese': 40, 'banana': 1... |\n",
       "| {'cheese': 40, 'apple': 10... |\n",
       "| {'cheese': 10, 'apple': 20... |\n",
       "| {'cheese': 40, 'banana': 4... |\n",
       "+-------------------------------+\n",
       "[5 rows x 1 columns]"
      ]
     },
     "execution_count": 86,
     "metadata": {},
     "output_type": "execute_result"
    }
   ],
   "source": [
    "import graphlab\n",
    "gg = graphlab.SFrame()\n",
    "gg['word_count'] = alldata\n",
    "gg.head()"
   ]
  },
  {
   "cell_type": "markdown",
   "metadata": {},
   "source": [
    "## 함수로 테스트 "
   ]
  },
  {
   "cell_type": "markdown",
   "metadata": {},
   "source": [
    "먼저 함수의 동작 원리를 확인한다 "
   ]
  },
  {
   "cell_type": "code",
   "execution_count": 87,
   "metadata": {},
   "outputs": [
    {
     "name": "stdout",
     "output_type": "stream",
     "text": [
      "{'cheese': 30, 'apple': 50, 'blueberry': 30, 'mango': 40, 'orange': 40, 'naruto': 30, 'banana': 10, 'pizza': 40}\n",
      "50\n",
      "[50, 0, 10, 20, 0]\n"
     ]
    }
   ],
   "source": [
    "word = \"apple\"\n",
    "def test(dict):\n",
    "    if word in dict:            \n",
    "        return dict[word]\n",
    "    else:\n",
    "        return 0\n",
    "print gg['word_count'][0]\n",
    "print test(gg['word_count'][0])\n",
    "print gg['word_count'].apply(test)\n",
    "gg[word] = gg['word_count'].apply(test)"
   ]
  },
  {
   "cell_type": "code",
   "execution_count": 88,
   "metadata": {},
   "outputs": [
    {
     "data": {
      "text/html": [
       "<div style=\"max-height:1000px;max-width:1500px;overflow:auto;\"><table frame=\"box\" rules=\"cols\">\n",
       "    <tr>\n",
       "        <th style=\"padding-left: 1em; padding-right: 1em; text-align: center\">word_count</th>\n",
       "        <th style=\"padding-left: 1em; padding-right: 1em; text-align: center\">apple</th>\n",
       "    </tr>\n",
       "    <tr>\n",
       "        <td style=\"padding-left: 1em; padding-right: 1em; text-align: center; vertical-align: top\">{'cheese': 30, 'apple':<br>50, 'blueberry': 30, ...</td>\n",
       "        <td style=\"padding-left: 1em; padding-right: 1em; text-align: center; vertical-align: top\">50</td>\n",
       "    </tr>\n",
       "    <tr>\n",
       "        <td style=\"padding-left: 1em; padding-right: 1em; text-align: center; vertical-align: top\">{'cheese': 40, 'banana':<br>10, 'mango': 20, ...</td>\n",
       "        <td style=\"padding-left: 1em; padding-right: 1em; text-align: center; vertical-align: top\">0</td>\n",
       "    </tr>\n",
       "    <tr>\n",
       "        <td style=\"padding-left: 1em; padding-right: 1em; text-align: center; vertical-align: top\">{'cheese': 40, 'apple':<br>10, 'banana': 20, ...</td>\n",
       "        <td style=\"padding-left: 1em; padding-right: 1em; text-align: center; vertical-align: top\">10</td>\n",
       "    </tr>\n",
       "    <tr>\n",
       "        <td style=\"padding-left: 1em; padding-right: 1em; text-align: center; vertical-align: top\">{'cheese': 10, 'apple':<br>20, 'mango': 10, ...</td>\n",
       "        <td style=\"padding-left: 1em; padding-right: 1em; text-align: center; vertical-align: top\">20</td>\n",
       "    </tr>\n",
       "    <tr>\n",
       "        <td style=\"padding-left: 1em; padding-right: 1em; text-align: center; vertical-align: top\">{'cheese': 40, 'banana':<br>40, 'mango': 40, ...</td>\n",
       "        <td style=\"padding-left: 1em; padding-right: 1em; text-align: center; vertical-align: top\">0</td>\n",
       "    </tr>\n",
       "</table>\n",
       "[5 rows x 2 columns]<br/>\n",
       "</div>"
      ],
      "text/plain": [
       "Columns:\n",
       "\tword_count\tdict\n",
       "\tapple\tint\n",
       "\n",
       "Rows: 5\n",
       "\n",
       "Data:\n",
       "+-------------------------------+-------+\n",
       "|           word_count          | apple |\n",
       "+-------------------------------+-------+\n",
       "| {'cheese': 30, 'apple': 50... |   50  |\n",
       "| {'cheese': 40, 'banana': 1... |   0   |\n",
       "| {'cheese': 40, 'apple': 10... |   10  |\n",
       "| {'cheese': 10, 'apple': 20... |   20  |\n",
       "| {'cheese': 40, 'banana': 4... |   0   |\n",
       "+-------------------------------+-------+\n",
       "[5 rows x 2 columns]"
      ]
     },
     "execution_count": 88,
     "metadata": {},
     "output_type": "execute_result"
    }
   ],
   "source": [
    "gg.head()"
   ]
  },
  {
   "cell_type": "code",
   "execution_count": 89,
   "metadata": {},
   "outputs": [],
   "source": [
    "# 몇 개의 단어를 선택, 전체 단어가 아님읠 주의한다! \n",
    "selected_words = [\"apple\",\"orange\",\"pizza\"] \n",
    "for word in selected_words:\n",
    "    def word_count(dict):\n",
    "        if word in dict:            \n",
    "            return dict[word]\n",
    "        else:\n",
    "            return 0\n",
    "    gg[word] = gg['word_count'].apply(word_count)"
   ]
  },
  {
   "cell_type": "code",
   "execution_count": 90,
   "metadata": {},
   "outputs": [
    {
     "data": {
      "text/html": [
       "<div style=\"max-height:1000px;max-width:1500px;overflow:auto;\"><table frame=\"box\" rules=\"cols\">\n",
       "    <tr>\n",
       "        <th style=\"padding-left: 1em; padding-right: 1em; text-align: center\">word_count</th>\n",
       "        <th style=\"padding-left: 1em; padding-right: 1em; text-align: center\">apple</th>\n",
       "        <th style=\"padding-left: 1em; padding-right: 1em; text-align: center\">orange</th>\n",
       "        <th style=\"padding-left: 1em; padding-right: 1em; text-align: center\">pizza</th>\n",
       "    </tr>\n",
       "    <tr>\n",
       "        <td style=\"padding-left: 1em; padding-right: 1em; text-align: center; vertical-align: top\">{'cheese': 30, 'apple':<br>50, 'blueberry': 30, ...</td>\n",
       "        <td style=\"padding-left: 1em; padding-right: 1em; text-align: center; vertical-align: top\">50</td>\n",
       "        <td style=\"padding-left: 1em; padding-right: 1em; text-align: center; vertical-align: top\">40</td>\n",
       "        <td style=\"padding-left: 1em; padding-right: 1em; text-align: center; vertical-align: top\">40</td>\n",
       "    </tr>\n",
       "    <tr>\n",
       "        <td style=\"padding-left: 1em; padding-right: 1em; text-align: center; vertical-align: top\">{'cheese': 40, 'banana':<br>10, 'mango': 20, ...</td>\n",
       "        <td style=\"padding-left: 1em; padding-right: 1em; text-align: center; vertical-align: top\">0</td>\n",
       "        <td style=\"padding-left: 1em; padding-right: 1em; text-align: center; vertical-align: top\">10</td>\n",
       "        <td style=\"padding-left: 1em; padding-right: 1em; text-align: center; vertical-align: top\">50</td>\n",
       "    </tr>\n",
       "    <tr>\n",
       "        <td style=\"padding-left: 1em; padding-right: 1em; text-align: center; vertical-align: top\">{'cheese': 40, 'apple':<br>10, 'banana': 20, ...</td>\n",
       "        <td style=\"padding-left: 1em; padding-right: 1em; text-align: center; vertical-align: top\">10</td>\n",
       "        <td style=\"padding-left: 1em; padding-right: 1em; text-align: center; vertical-align: top\">30</td>\n",
       "        <td style=\"padding-left: 1em; padding-right: 1em; text-align: center; vertical-align: top\">30</td>\n",
       "    </tr>\n",
       "    <tr>\n",
       "        <td style=\"padding-left: 1em; padding-right: 1em; text-align: center; vertical-align: top\">{'cheese': 10, 'apple':<br>20, 'mango': 10, ...</td>\n",
       "        <td style=\"padding-left: 1em; padding-right: 1em; text-align: center; vertical-align: top\">20</td>\n",
       "        <td style=\"padding-left: 1em; padding-right: 1em; text-align: center; vertical-align: top\">30</td>\n",
       "        <td style=\"padding-left: 1em; padding-right: 1em; text-align: center; vertical-align: top\">10</td>\n",
       "    </tr>\n",
       "    <tr>\n",
       "        <td style=\"padding-left: 1em; padding-right: 1em; text-align: center; vertical-align: top\">{'cheese': 40, 'banana':<br>40, 'mango': 40, ...</td>\n",
       "        <td style=\"padding-left: 1em; padding-right: 1em; text-align: center; vertical-align: top\">0</td>\n",
       "        <td style=\"padding-left: 1em; padding-right: 1em; text-align: center; vertical-align: top\">40</td>\n",
       "        <td style=\"padding-left: 1em; padding-right: 1em; text-align: center; vertical-align: top\">10</td>\n",
       "    </tr>\n",
       "</table>\n",
       "[5 rows x 4 columns]<br/>\n",
       "</div>"
      ],
      "text/plain": [
       "Columns:\n",
       "\tword_count\tdict\n",
       "\tapple\tint\n",
       "\torange\tint\n",
       "\tpizza\tint\n",
       "\n",
       "Rows: 5\n",
       "\n",
       "Data:\n",
       "+-------------------------------+-------+--------+-------+\n",
       "|           word_count          | apple | orange | pizza |\n",
       "+-------------------------------+-------+--------+-------+\n",
       "| {'cheese': 30, 'apple': 50... |   50  |   40   |   40  |\n",
       "| {'cheese': 40, 'banana': 1... |   0   |   10   |   50  |\n",
       "| {'cheese': 40, 'apple': 10... |   10  |   30   |   30  |\n",
       "| {'cheese': 10, 'apple': 20... |   20  |   30   |   10  |\n",
       "| {'cheese': 40, 'banana': 4... |   0   |   40   |   10  |\n",
       "+-------------------------------+-------+--------+-------+\n",
       "[5 rows x 4 columns]"
      ]
     },
     "execution_count": 90,
     "metadata": {},
     "output_type": "execute_result"
    }
   ],
   "source": [
    "gg.head()"
   ]
  },
  {
   "cell_type": "markdown",
   "metadata": {},
   "source": [
    "## 람다로 변경 \n"
   ]
  },
  {
   "cell_type": "code",
   "execution_count": 91,
   "metadata": {
    "collapsed": true
   },
   "outputs": [],
   "source": [
    "# 몇 개의 단어를 선택, 전체 단어가 아님읠 주의한다! \n",
    "selected_words = [\"banana\",\"naruto\"] \n",
    "# 루프의 바깥에 함수를 정의\n",
    "def word_count(dict, w):\n",
    "    if w in dict:            \n",
    "        return dict[w]\n",
    "    else:\n",
    "        return 0    \n",
    "for word in selected_words:\n",
    "    gg[word] = gg['word_count'].apply(lambda x:word_count(x, word))    "
   ]
  },
  {
   "cell_type": "code",
   "execution_count": 92,
   "metadata": {},
   "outputs": [
    {
     "data": {
      "text/html": [
       "<div style=\"max-height:1000px;max-width:1500px;overflow:auto;\"><table frame=\"box\" rules=\"cols\">\n",
       "    <tr>\n",
       "        <th style=\"padding-left: 1em; padding-right: 1em; text-align: center\">word_count</th>\n",
       "        <th style=\"padding-left: 1em; padding-right: 1em; text-align: center\">apple</th>\n",
       "        <th style=\"padding-left: 1em; padding-right: 1em; text-align: center\">orange</th>\n",
       "        <th style=\"padding-left: 1em; padding-right: 1em; text-align: center\">pizza</th>\n",
       "        <th style=\"padding-left: 1em; padding-right: 1em; text-align: center\">banana</th>\n",
       "        <th style=\"padding-left: 1em; padding-right: 1em; text-align: center\">naruto</th>\n",
       "    </tr>\n",
       "    <tr>\n",
       "        <td style=\"padding-left: 1em; padding-right: 1em; text-align: center; vertical-align: top\">{'cheese': 30, 'apple':<br>50, 'blueberry': 30, ...</td>\n",
       "        <td style=\"padding-left: 1em; padding-right: 1em; text-align: center; vertical-align: top\">50</td>\n",
       "        <td style=\"padding-left: 1em; padding-right: 1em; text-align: center; vertical-align: top\">40</td>\n",
       "        <td style=\"padding-left: 1em; padding-right: 1em; text-align: center; vertical-align: top\">40</td>\n",
       "        <td style=\"padding-left: 1em; padding-right: 1em; text-align: center; vertical-align: top\">10</td>\n",
       "        <td style=\"padding-left: 1em; padding-right: 1em; text-align: center; vertical-align: top\">30</td>\n",
       "    </tr>\n",
       "    <tr>\n",
       "        <td style=\"padding-left: 1em; padding-right: 1em; text-align: center; vertical-align: top\">{'cheese': 40, 'banana':<br>10, 'mango': 20, ...</td>\n",
       "        <td style=\"padding-left: 1em; padding-right: 1em; text-align: center; vertical-align: top\">0</td>\n",
       "        <td style=\"padding-left: 1em; padding-right: 1em; text-align: center; vertical-align: top\">10</td>\n",
       "        <td style=\"padding-left: 1em; padding-right: 1em; text-align: center; vertical-align: top\">50</td>\n",
       "        <td style=\"padding-left: 1em; padding-right: 1em; text-align: center; vertical-align: top\">10</td>\n",
       "        <td style=\"padding-left: 1em; padding-right: 1em; text-align: center; vertical-align: top\">30</td>\n",
       "    </tr>\n",
       "    <tr>\n",
       "        <td style=\"padding-left: 1em; padding-right: 1em; text-align: center; vertical-align: top\">{'cheese': 40, 'apple':<br>10, 'banana': 20, ...</td>\n",
       "        <td style=\"padding-left: 1em; padding-right: 1em; text-align: center; vertical-align: top\">10</td>\n",
       "        <td style=\"padding-left: 1em; padding-right: 1em; text-align: center; vertical-align: top\">30</td>\n",
       "        <td style=\"padding-left: 1em; padding-right: 1em; text-align: center; vertical-align: top\">30</td>\n",
       "        <td style=\"padding-left: 1em; padding-right: 1em; text-align: center; vertical-align: top\">20</td>\n",
       "        <td style=\"padding-left: 1em; padding-right: 1em; text-align: center; vertical-align: top\">0</td>\n",
       "    </tr>\n",
       "    <tr>\n",
       "        <td style=\"padding-left: 1em; padding-right: 1em; text-align: center; vertical-align: top\">{'cheese': 10, 'apple':<br>20, 'mango': 10, ...</td>\n",
       "        <td style=\"padding-left: 1em; padding-right: 1em; text-align: center; vertical-align: top\">20</td>\n",
       "        <td style=\"padding-left: 1em; padding-right: 1em; text-align: center; vertical-align: top\">30</td>\n",
       "        <td style=\"padding-left: 1em; padding-right: 1em; text-align: center; vertical-align: top\">10</td>\n",
       "        <td style=\"padding-left: 1em; padding-right: 1em; text-align: center; vertical-align: top\">0</td>\n",
       "        <td style=\"padding-left: 1em; padding-right: 1em; text-align: center; vertical-align: top\">0</td>\n",
       "    </tr>\n",
       "    <tr>\n",
       "        <td style=\"padding-left: 1em; padding-right: 1em; text-align: center; vertical-align: top\">{'cheese': 40, 'banana':<br>40, 'mango': 40, ...</td>\n",
       "        <td style=\"padding-left: 1em; padding-right: 1em; text-align: center; vertical-align: top\">0</td>\n",
       "        <td style=\"padding-left: 1em; padding-right: 1em; text-align: center; vertical-align: top\">40</td>\n",
       "        <td style=\"padding-left: 1em; padding-right: 1em; text-align: center; vertical-align: top\">10</td>\n",
       "        <td style=\"padding-left: 1em; padding-right: 1em; text-align: center; vertical-align: top\">40</td>\n",
       "        <td style=\"padding-left: 1em; padding-right: 1em; text-align: center; vertical-align: top\">40</td>\n",
       "    </tr>\n",
       "</table>\n",
       "[5 rows x 6 columns]<br/>\n",
       "</div>"
      ],
      "text/plain": [
       "Columns:\n",
       "\tword_count\tdict\n",
       "\tapple\tint\n",
       "\torange\tint\n",
       "\tpizza\tint\n",
       "\tbanana\tint\n",
       "\tnaruto\tint\n",
       "\n",
       "Rows: 5\n",
       "\n",
       "Data:\n",
       "+-------------------------------+-------+--------+-------+--------+--------+\n",
       "|           word_count          | apple | orange | pizza | banana | naruto |\n",
       "+-------------------------------+-------+--------+-------+--------+--------+\n",
       "| {'cheese': 30, 'apple': 50... |   50  |   40   |   40  |   10   |   30   |\n",
       "| {'cheese': 40, 'banana': 1... |   0   |   10   |   50  |   10   |   30   |\n",
       "| {'cheese': 40, 'apple': 10... |   10  |   30   |   30  |   20   |   0    |\n",
       "| {'cheese': 10, 'apple': 20... |   20  |   30   |   10  |   0    |   0    |\n",
       "| {'cheese': 40, 'banana': 4... |   0   |   40   |   10  |   40   |   40   |\n",
       "+-------------------------------+-------+--------+-------+--------+--------+\n",
       "[5 rows x 6 columns]"
      ]
     },
     "execution_count": 92,
     "metadata": {},
     "output_type": "execute_result"
    }
   ],
   "source": [
    "gg.head()"
   ]
  },
  {
   "cell_type": "code",
   "execution_count": 95,
   "metadata": {},
   "outputs": [
    {
     "data": {
      "application/javascript": [
       "$(\"head\").append($(\"<link/>\").attr({\n",
       "  rel:  \"stylesheet\",\n",
       "  type: \"text/css\",\n",
       "  href: \"//cdnjs.cloudflare.com/ajax/libs/font-awesome/4.1.0/css/font-awesome.min.css\"\n",
       "}));\n",
       "$(\"head\").append($(\"<link/>\").attr({\n",
       "  rel:  \"stylesheet\",\n",
       "  type: \"text/css\",\n",
       "  href: \"https://static.turi.com/products/graphlab-create/2.1/canvas/css/canvas.css\"\n",
       "}));\n",
       "\n",
       "            (function(){\n",
       "\n",
       "                var e = null;\n",
       "                if (typeof element == 'undefined') {\n",
       "                    var scripts = document.getElementsByTagName('script');\n",
       "                    var thisScriptTag = scripts[scripts.length-1];\n",
       "                    var parentDiv = thisScriptTag.parentNode;\n",
       "                    e = document.createElement('div');\n",
       "                    parentDiv.appendChild(e);\n",
       "                } else {\n",
       "                    e = element[0];\n",
       "                }\n",
       "\n",
       "                if (typeof requirejs !== 'undefined') {\n",
       "                    // disable load timeout; ipython_app.js is large and can take a while to load.\n",
       "                    requirejs.config({waitSeconds: 0});\n",
       "                }\n",
       "\n",
       "                require(['https://static.turi.com/products/graphlab-create/2.1/canvas/js/ipython_app.js'], function(IPythonApp){\n",
       "                    var app = new IPythonApp();\n",
       "                    app.attachView('sframe','Summary', {\"ipython\": true, \"sketch\": {\"apple\": {\"std\": 18.547236990991408, \"complete\": true, \"min\": 0.0, \"max\": 50.0, \"quantile\": [0.0, 0.0, 0.0, 0.0, 0.0, 0.0, 0.0, 0.0, 0.0, 0.0, 0.0, 0.0, 0.0, 0.0, 0.0, 0.0, 0.0, 0.0, 0.0, 0.0, 0.0, 0.0, 0.0, 0.0, 0.0, 0.0, 0.0, 0.0, 0.0, 0.0, 0.0, 0.0, 0.0, 0.0, 0.0, 0.0, 0.0, 0.0, 0.0, 0.0, 10.0, 10.0, 10.0, 10.0, 10.0, 10.0, 10.0, 10.0, 10.0, 10.0, 10.0, 10.0, 10.0, 10.0, 10.0, 10.0, 10.0, 10.0, 10.0, 10.0, 20.0, 20.0, 20.0, 20.0, 20.0, 20.0, 20.0, 20.0, 20.0, 20.0, 20.0, 20.0, 20.0, 20.0, 20.0, 20.0, 20.0, 20.0, 20.0, 20.0, 50.0, 50.0, 50.0, 50.0, 50.0, 50.0, 50.0, 50.0, 50.0, 50.0, 50.0, 50.0, 50.0, 50.0, 50.0, 50.0, 50.0, 50.0, 50.0, 50.0, 50.0], \"median\": 10.0, \"numeric\": true, \"num_unique\": 4, \"num_undefined\": 0, \"var\": 344.0, \"progress\": 1.0, \"size\": 5, \"frequent_items\": {\"0\": {\"frequency\": 2, \"value\": 0}, \"50\": {\"frequency\": 1, \"value\": 50}, \"20\": {\"frequency\": 1, \"value\": 20}, \"10\": {\"frequency\": 1, \"value\": 10}}, \"mean\": 15.999999999999998}, \"word_count\": {\"keys\": {\"complete\": true, \"numeric\": false, \"num_unique\": 8, \"num_undefined\": 0, \"progress\": 1.0, \"frequent_items\": {\"cheese\": {\"frequency\": 5, \"value\": \"cheese\"}, \"apple\": {\"frequency\": 3, \"value\": \"apple\"}, \"blueberry\": {\"frequency\": 5, \"value\": \"blueberry\"}, \"mango\": {\"frequency\": 5, \"value\": \"mango\"}, \"orange\": {\"frequency\": 5, \"value\": \"orange\"}, \"naruto\": {\"frequency\": 3, \"value\": \"naruto\"}, \"banana\": {\"frequency\": 4, \"value\": \"banana\"}, \"pizza\": {\"frequency\": 5, \"value\": \"pizza\"}}, \"size\": 35}, \"progress\": 1.0, \"values\": {\"std\": 13.04935685333627, \"complete\": true, \"min\": 10.0, \"max\": 50.0, \"quantile\": [10.0, 10.0, 10.0, 10.0, 10.0, 10.0, 10.0, 10.0, 10.0, 10.0, 10.0, 10.0, 10.0, 10.0, 10.0, 10.0, 10.0, 10.0, 10.0, 10.0, 10.0, 10.0, 10.0, 10.0, 10.0, 10.0, 20.0, 20.0, 20.0, 20.0, 20.0, 20.0, 20.0, 20.0, 20.0, 20.0, 20.0, 20.0, 20.0, 20.0, 30.0, 30.0, 30.0, 30.0, 30.0, 30.0, 30.0, 30.0, 30.0, 30.0, 30.0, 30.0, 30.0, 30.0, 30.0, 30.0, 30.0, 30.0, 30.0, 30.0, 40.0, 40.0, 40.0, 40.0, 40.0, 40.0, 40.0, 40.0, 40.0, 40.0, 40.0, 40.0, 40.0, 40.0, 40.0, 40.0, 40.0, 40.0, 40.0, 40.0, 40.0, 40.0, 40.0, 40.0, 40.0, 40.0, 40.0, 40.0, 40.0, 40.0, 40.0, 40.0, 40.0, 40.0, 40.0, 50.0, 50.0, 50.0, 50.0, 50.0, 50.0], \"median\": 30.0, \"numeric\": true, \"num_unique\": 5, \"num_undefined\": 0, \"var\": 170.28571428571428, \"progress\": 1.0, \"size\": 35, \"frequent_items\": {\"40.0\": {\"frequency\": 12, \"value\": 40.0}, \"50.0\": {\"frequency\": 2, \"value\": 50.0}, \"20.0\": {\"frequency\": 5, \"value\": 20.0}, \"10.0\": {\"frequency\": 9, \"value\": 10.0}, \"30.0\": {\"frequency\": 7, \"value\": 30.0}}, \"mean\": 28.0}, \"complete\": true, \"num_undefined\": 0}, \"orange\": {\"std\": 10.954451150103322, \"complete\": true, \"min\": 10.0, \"max\": 40.0, \"quantile\": [10.0, 10.0, 10.0, 10.0, 10.0, 10.0, 10.0, 10.0, 10.0, 10.0, 10.0, 10.0, 10.0, 10.0, 10.0, 10.0, 10.0, 10.0, 10.0, 10.0, 30.0, 30.0, 30.0, 30.0, 30.0, 30.0, 30.0, 30.0, 30.0, 30.0, 30.0, 30.0, 30.0, 30.0, 30.0, 30.0, 30.0, 30.0, 30.0, 30.0, 30.0, 30.0, 30.0, 30.0, 30.0, 30.0, 30.0, 30.0, 30.0, 30.0, 30.0, 30.0, 30.0, 30.0, 30.0, 30.0, 30.0, 30.0, 30.0, 30.0, 40.0, 40.0, 40.0, 40.0, 40.0, 40.0, 40.0, 40.0, 40.0, 40.0, 40.0, 40.0, 40.0, 40.0, 40.0, 40.0, 40.0, 40.0, 40.0, 40.0, 40.0, 40.0, 40.0, 40.0, 40.0, 40.0, 40.0, 40.0, 40.0, 40.0, 40.0, 40.0, 40.0, 40.0, 40.0, 40.0, 40.0, 40.0, 40.0, 40.0, 40.0], \"median\": 30.0, \"numeric\": true, \"num_unique\": 3, \"num_undefined\": 0, \"var\": 120.0, \"progress\": 1.0, \"size\": 5, \"frequent_items\": {\"40\": {\"frequency\": 2, \"value\": 40}, \"10\": {\"frequency\": 1, \"value\": 10}, \"30\": {\"frequency\": 2, \"value\": 30}}, \"mean\": 30.0}, \"naruto\": {\"std\": 16.73320053068151, \"complete\": true, \"min\": 0.0, \"max\": 40.0, \"quantile\": [0.0, 0.0, 0.0, 0.0, 0.0, 0.0, 0.0, 0.0, 0.0, 0.0, 0.0, 0.0, 0.0, 0.0, 0.0, 0.0, 0.0, 0.0, 0.0, 0.0, 0.0, 0.0, 0.0, 0.0, 0.0, 0.0, 0.0, 0.0, 0.0, 0.0, 0.0, 0.0, 0.0, 0.0, 0.0, 0.0, 0.0, 0.0, 0.0, 0.0, 30.0, 30.0, 30.0, 30.0, 30.0, 30.0, 30.0, 30.0, 30.0, 30.0, 30.0, 30.0, 30.0, 30.0, 30.0, 30.0, 30.0, 30.0, 30.0, 30.0, 30.0, 30.0, 30.0, 30.0, 30.0, 30.0, 30.0, 30.0, 30.0, 30.0, 30.0, 30.0, 30.0, 30.0, 30.0, 30.0, 30.0, 30.0, 30.0, 30.0, 40.0, 40.0, 40.0, 40.0, 40.0, 40.0, 40.0, 40.0, 40.0, 40.0, 40.0, 40.0, 40.0, 40.0, 40.0, 40.0, 40.0, 40.0, 40.0, 40.0, 40.0], \"median\": 30.0, \"numeric\": true, \"num_unique\": 3, \"num_undefined\": 0, \"var\": 280.0, \"progress\": 1.0, \"size\": 5, \"frequent_items\": {\"0\": {\"frequency\": 2, \"value\": 0}, \"40\": {\"frequency\": 1, \"value\": 40}, \"30\": {\"frequency\": 2, \"value\": 30}}, \"mean\": 20.0}, \"banana\": {\"std\": 13.564659966250536, \"complete\": true, \"min\": 0.0, \"max\": 40.0, \"quantile\": [0.0, 0.0, 0.0, 0.0, 0.0, 0.0, 0.0, 0.0, 0.0, 0.0, 0.0, 0.0, 0.0, 0.0, 0.0, 0.0, 0.0, 0.0, 0.0, 0.0, 10.0, 10.0, 10.0, 10.0, 10.0, 10.0, 10.0, 10.0, 10.0, 10.0, 10.0, 10.0, 10.0, 10.0, 10.0, 10.0, 10.0, 10.0, 10.0, 10.0, 10.0, 10.0, 10.0, 10.0, 10.0, 10.0, 10.0, 10.0, 10.0, 10.0, 10.0, 10.0, 10.0, 10.0, 10.0, 10.0, 10.0, 10.0, 10.0, 10.0, 20.0, 20.0, 20.0, 20.0, 20.0, 20.0, 20.0, 20.0, 20.0, 20.0, 20.0, 20.0, 20.0, 20.0, 20.0, 20.0, 20.0, 20.0, 20.0, 20.0, 40.0, 40.0, 40.0, 40.0, 40.0, 40.0, 40.0, 40.0, 40.0, 40.0, 40.0, 40.0, 40.0, 40.0, 40.0, 40.0, 40.0, 40.0, 40.0, 40.0, 40.0], \"median\": 10.0, \"numeric\": true, \"num_unique\": 4, \"num_undefined\": 0, \"var\": 184.0, \"progress\": 1.0, \"size\": 5, \"frequent_items\": {\"0\": {\"frequency\": 1, \"value\": 0}, \"40\": {\"frequency\": 1, \"value\": 40}, \"10\": {\"frequency\": 2, \"value\": 10}, \"20\": {\"frequency\": 1, \"value\": 20}}, \"mean\": 16.0}, \"pizza\": {\"std\": 16.0, \"complete\": true, \"min\": 10.0, \"max\": 50.0, \"quantile\": [10.0, 10.0, 10.0, 10.0, 10.0, 10.0, 10.0, 10.0, 10.0, 10.0, 10.0, 10.0, 10.0, 10.0, 10.0, 10.0, 10.0, 10.0, 10.0, 10.0, 10.0, 10.0, 10.0, 10.0, 10.0, 10.0, 10.0, 10.0, 10.0, 10.0, 10.0, 10.0, 10.0, 10.0, 10.0, 10.0, 10.0, 10.0, 10.0, 10.0, 30.0, 30.0, 30.0, 30.0, 30.0, 30.0, 30.0, 30.0, 30.0, 30.0, 30.0, 30.0, 30.0, 30.0, 30.0, 30.0, 30.0, 30.0, 30.0, 30.0, 40.0, 40.0, 40.0, 40.0, 40.0, 40.0, 40.0, 40.0, 40.0, 40.0, 40.0, 40.0, 40.0, 40.0, 40.0, 40.0, 40.0, 40.0, 40.0, 40.0, 50.0, 50.0, 50.0, 50.0, 50.0, 50.0, 50.0, 50.0, 50.0, 50.0, 50.0, 50.0, 50.0, 50.0, 50.0, 50.0, 50.0, 50.0, 50.0, 50.0, 50.0], \"median\": 30.0, \"numeric\": true, \"num_unique\": 4, \"num_undefined\": 0, \"var\": 256.0, \"progress\": 1.0, \"size\": 5, \"frequent_items\": {\"40\": {\"frequency\": 1, \"value\": 40}, \"50\": {\"frequency\": 1, \"value\": 50}, \"10\": {\"frequency\": 2, \"value\": 10}, \"30\": {\"frequency\": 1, \"value\": 30}}, \"mean\": 28.0}}, \"selected_variable\": {\"name\": [\"gg\"], \"descriptives\": {\"rows\": 5, \"columns\": 6}, \"view_component\": \"Summary\", \"view_file\": \"sframe\", \"view_params\": {\"y\": null, \"x\": null, \"columns\": [\"word_count\", \"apple\", \"orange\", \"pizza\", \"banana\", \"naruto\"], \"view\": null}, \"view_components\": [\"Summary\", \"Table\", \"Bar Chart\", \"BoxWhisker Plot\", \"Line Chart\", \"Scatter Plot\", \"Heat Map\", \"Plots\"], \"type\": \"SFrame\", \"columns\": [{\"dtype\": \"dict\", \"name\": \"word_count\"}, {\"dtype\": \"int\", \"name\": \"apple\"}, {\"dtype\": \"int\", \"name\": \"orange\"}, {\"dtype\": \"int\", \"name\": \"pizza\"}, {\"dtype\": \"int\", \"name\": \"banana\"}, {\"dtype\": \"int\", \"name\": \"naruto\"}], \"column_identifiers\": [\"apple\", \"word_count\", \"orange\", \"naruto\", \"banana\", \"pizza\"]}, \"columns\": [{\"dtype\": \"dict\", \"name\": \"word_count\"}, {\"dtype\": \"int\", \"name\": \"apple\"}, {\"dtype\": \"int\", \"name\": \"orange\"}, {\"dtype\": \"int\", \"name\": \"pizza\"}, {\"dtype\": \"int\", \"name\": \"banana\"}, {\"dtype\": \"int\", \"name\": \"naruto\"}]}, e);\n",
       "                });\n",
       "            })();\n",
       "        "
      ]
     },
     "metadata": {},
     "output_type": "display_data"
    }
   ],
   "source": [
    "graphlab.canvas.set_target('ipynb')\n",
    "gg.show()"
   ]
  },
  {
   "cell_type": "code",
   "execution_count": null,
   "metadata": {
    "collapsed": true
   },
   "outputs": [],
   "source": []
  }
 ],
 "metadata": {
  "kernelspec": {
   "display_name": "Python 2",
   "language": "python",
   "name": "python2"
  },
  "language_info": {
   "codemirror_mode": {
    "name": "ipython",
    "version": 2
   },
   "file_extension": ".py",
   "mimetype": "text/x-python",
   "name": "python",
   "nbconvert_exporter": "python",
   "pygments_lexer": "ipython2",
   "version": "2.7.14"
  }
 },
 "nbformat": 4,
 "nbformat_minor": 2
}
